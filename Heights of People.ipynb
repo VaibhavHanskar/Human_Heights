{
 "cells": [
  {
   "cell_type": "raw",
   "id": "d0865af4",
   "metadata": {},
   "source": [
    "The ideas for this data is to:\n",
    "Average Height of Men in Countries?\n",
    "Average Height of Women in Countries?\n",
    "Height of Male and Female in Feet?\n",
    "\n",
    "Which country have the tallest male and female?\n",
    "\n",
    "Which countries have the smallest male and female average height?"
   ]
  },
  {
   "cell_type": "code",
   "execution_count": 1,
   "id": "b36002f2",
   "metadata": {},
   "outputs": [],
   "source": [
    "import pandas as pd"
   ]
  },
  {
   "cell_type": "code",
   "execution_count": 2,
   "id": "d09e9ca5",
   "metadata": {},
   "outputs": [],
   "source": [
    "import numpy as np"
   ]
  },
  {
   "cell_type": "code",
   "execution_count": 3,
   "id": "e38ac4d0",
   "metadata": {},
   "outputs": [],
   "source": [
    "import matplotlib.pyplot as plt"
   ]
  },
  {
   "cell_type": "code",
   "execution_count": 4,
   "id": "82eb313d",
   "metadata": {},
   "outputs": [],
   "source": [
    "from pandas import Series,DataFrame"
   ]
  },
  {
   "cell_type": "code",
   "execution_count": 5,
   "id": "cc0f4464",
   "metadata": {},
   "outputs": [],
   "source": [
    "df= pd.read_csv('Height of Male and Female by Country 2022.csv')"
   ]
  },
  {
   "cell_type": "code",
   "execution_count": 6,
   "id": "67273797",
   "metadata": {},
   "outputs": [
    {
     "data": {
      "text/html": [
       "<div>\n",
       "<style scoped>\n",
       "    .dataframe tbody tr th:only-of-type {\n",
       "        vertical-align: middle;\n",
       "    }\n",
       "\n",
       "    .dataframe tbody tr th {\n",
       "        vertical-align: top;\n",
       "    }\n",
       "\n",
       "    .dataframe thead th {\n",
       "        text-align: right;\n",
       "    }\n",
       "</style>\n",
       "<table border=\"1\" class=\"dataframe\">\n",
       "  <thead>\n",
       "    <tr style=\"text-align: right;\">\n",
       "      <th></th>\n",
       "      <th>Rank</th>\n",
       "      <th>Country Name</th>\n",
       "      <th>Male Height in Cm</th>\n",
       "      <th>Female Height in Cm</th>\n",
       "      <th>Male Height in Ft</th>\n",
       "      <th>Female Height in Ft</th>\n",
       "    </tr>\n",
       "  </thead>\n",
       "  <tbody>\n",
       "    <tr>\n",
       "      <th>0</th>\n",
       "      <td>1</td>\n",
       "      <td>Netherlands</td>\n",
       "      <td>183.78</td>\n",
       "      <td>170.36</td>\n",
       "      <td>6.03</td>\n",
       "      <td>5.59</td>\n",
       "    </tr>\n",
       "    <tr>\n",
       "      <th>1</th>\n",
       "      <td>2</td>\n",
       "      <td>Montenegro</td>\n",
       "      <td>183.30</td>\n",
       "      <td>169.96</td>\n",
       "      <td>6.01</td>\n",
       "      <td>5.58</td>\n",
       "    </tr>\n",
       "    <tr>\n",
       "      <th>2</th>\n",
       "      <td>3</td>\n",
       "      <td>Estonia</td>\n",
       "      <td>182.79</td>\n",
       "      <td>168.66</td>\n",
       "      <td>6.00</td>\n",
       "      <td>5.53</td>\n",
       "    </tr>\n",
       "    <tr>\n",
       "      <th>3</th>\n",
       "      <td>4</td>\n",
       "      <td>Bosnia and Herzegovina</td>\n",
       "      <td>182.47</td>\n",
       "      <td>167.47</td>\n",
       "      <td>5.99</td>\n",
       "      <td>5.49</td>\n",
       "    </tr>\n",
       "    <tr>\n",
       "      <th>4</th>\n",
       "      <td>5</td>\n",
       "      <td>Iceland</td>\n",
       "      <td>182.10</td>\n",
       "      <td>168.91</td>\n",
       "      <td>5.97</td>\n",
       "      <td>5.54</td>\n",
       "    </tr>\n",
       "    <tr>\n",
       "      <th>...</th>\n",
       "      <td>...</td>\n",
       "      <td>...</td>\n",
       "      <td>...</td>\n",
       "      <td>...</td>\n",
       "      <td>...</td>\n",
       "      <td>...</td>\n",
       "    </tr>\n",
       "    <tr>\n",
       "      <th>194</th>\n",
       "      <td>195</td>\n",
       "      <td>Mozambique</td>\n",
       "      <td>164.30</td>\n",
       "      <td>155.42</td>\n",
       "      <td>5.39</td>\n",
       "      <td>5.10</td>\n",
       "    </tr>\n",
       "    <tr>\n",
       "      <th>195</th>\n",
       "      <td>196</td>\n",
       "      <td>Papua New Guinea</td>\n",
       "      <td>163.10</td>\n",
       "      <td>156.89</td>\n",
       "      <td>5.35</td>\n",
       "      <td>5.15</td>\n",
       "    </tr>\n",
       "    <tr>\n",
       "      <th>196</th>\n",
       "      <td>197</td>\n",
       "      <td>Solomon Islands</td>\n",
       "      <td>163.07</td>\n",
       "      <td>156.79</td>\n",
       "      <td>5.35</td>\n",
       "      <td>5.14</td>\n",
       "    </tr>\n",
       "    <tr>\n",
       "      <th>197</th>\n",
       "      <td>198</td>\n",
       "      <td>Laos</td>\n",
       "      <td>162.78</td>\n",
       "      <td>153.10</td>\n",
       "      <td>5.34</td>\n",
       "      <td>5.02</td>\n",
       "    </tr>\n",
       "    <tr>\n",
       "      <th>198</th>\n",
       "      <td>199</td>\n",
       "      <td>Timor-Leste</td>\n",
       "      <td>160.13</td>\n",
       "      <td>152.71</td>\n",
       "      <td>5.25</td>\n",
       "      <td>5.01</td>\n",
       "    </tr>\n",
       "  </tbody>\n",
       "</table>\n",
       "<p>199 rows × 6 columns</p>\n",
       "</div>"
      ],
      "text/plain": [
       "     Rank            Country Name  Male Height in Cm  Female Height in Cm  \\\n",
       "0       1             Netherlands             183.78               170.36   \n",
       "1       2              Montenegro             183.30               169.96   \n",
       "2       3                 Estonia             182.79               168.66   \n",
       "3       4  Bosnia and Herzegovina             182.47               167.47   \n",
       "4       5                 Iceland             182.10               168.91   \n",
       "..    ...                     ...                ...                  ...   \n",
       "194   195              Mozambique             164.30               155.42   \n",
       "195   196        Papua New Guinea             163.10               156.89   \n",
       "196   197         Solomon Islands             163.07               156.79   \n",
       "197   198                    Laos             162.78               153.10   \n",
       "198   199             Timor-Leste             160.13               152.71   \n",
       "\n",
       "     Male Height in Ft  Female Height in Ft  \n",
       "0                 6.03                 5.59  \n",
       "1                 6.01                 5.58  \n",
       "2                 6.00                 5.53  \n",
       "3                 5.99                 5.49  \n",
       "4                 5.97                 5.54  \n",
       "..                 ...                  ...  \n",
       "194               5.39                 5.10  \n",
       "195               5.35                 5.15  \n",
       "196               5.35                 5.14  \n",
       "197               5.34                 5.02  \n",
       "198               5.25                 5.01  \n",
       "\n",
       "[199 rows x 6 columns]"
      ]
     },
     "execution_count": 6,
     "metadata": {},
     "output_type": "execute_result"
    }
   ],
   "source": [
    "df"
   ]
  },
  {
   "cell_type": "code",
   "execution_count": 7,
   "id": "9e9e2d9f",
   "metadata": {},
   "outputs": [
    {
     "data": {
      "text/plain": [
       "Rank                   199\n",
       "Country Name           199\n",
       "Male Height in Cm      187\n",
       "Female Height in Cm    181\n",
       "Male Height in Ft       60\n",
       "Female Height in Ft     55\n",
       "dtype: int64"
      ]
     },
     "execution_count": 7,
     "metadata": {},
     "output_type": "execute_result"
    }
   ],
   "source": [
    "df.nunique()"
   ]
  },
  {
   "cell_type": "code",
   "execution_count": 8,
   "id": "ec20bd53",
   "metadata": {},
   "outputs": [
    {
     "data": {
      "text/html": [
       "<div>\n",
       "<style scoped>\n",
       "    .dataframe tbody tr th:only-of-type {\n",
       "        vertical-align: middle;\n",
       "    }\n",
       "\n",
       "    .dataframe tbody tr th {\n",
       "        vertical-align: top;\n",
       "    }\n",
       "\n",
       "    .dataframe thead th {\n",
       "        text-align: right;\n",
       "    }\n",
       "</style>\n",
       "<table border=\"1\" class=\"dataframe\">\n",
       "  <thead>\n",
       "    <tr style=\"text-align: right;\">\n",
       "      <th></th>\n",
       "      <th>Rank</th>\n",
       "      <th>Male Height in Cm</th>\n",
       "      <th>Female Height in Cm</th>\n",
       "      <th>Male Height in Ft</th>\n",
       "      <th>Female Height in Ft</th>\n",
       "    </tr>\n",
       "  </thead>\n",
       "  <tbody>\n",
       "    <tr>\n",
       "      <th>count</th>\n",
       "      <td>199.000000</td>\n",
       "      <td>199.000000</td>\n",
       "      <td>199.000000</td>\n",
       "      <td>199.000000</td>\n",
       "      <td>199.000000</td>\n",
       "    </tr>\n",
       "    <tr>\n",
       "      <th>mean</th>\n",
       "      <td>100.000000</td>\n",
       "      <td>173.089045</td>\n",
       "      <td>160.942915</td>\n",
       "      <td>5.678794</td>\n",
       "      <td>5.280402</td>\n",
       "    </tr>\n",
       "    <tr>\n",
       "      <th>std</th>\n",
       "      <td>57.590508</td>\n",
       "      <td>4.949832</td>\n",
       "      <td>4.076377</td>\n",
       "      <td>0.162510</td>\n",
       "      <td>0.133870</td>\n",
       "    </tr>\n",
       "    <tr>\n",
       "      <th>min</th>\n",
       "      <td>1.000000</td>\n",
       "      <td>160.130000</td>\n",
       "      <td>150.910000</td>\n",
       "      <td>5.250000</td>\n",
       "      <td>4.950000</td>\n",
       "    </tr>\n",
       "    <tr>\n",
       "      <th>25%</th>\n",
       "      <td>50.500000</td>\n",
       "      <td>169.490000</td>\n",
       "      <td>158.240000</td>\n",
       "      <td>5.560000</td>\n",
       "      <td>5.190000</td>\n",
       "    </tr>\n",
       "    <tr>\n",
       "      <th>50%</th>\n",
       "      <td>100.000000</td>\n",
       "      <td>173.530000</td>\n",
       "      <td>160.620000</td>\n",
       "      <td>5.690000</td>\n",
       "      <td>5.270000</td>\n",
       "    </tr>\n",
       "    <tr>\n",
       "      <th>75%</th>\n",
       "      <td>149.500000</td>\n",
       "      <td>176.510000</td>\n",
       "      <td>163.870000</td>\n",
       "      <td>5.790000</td>\n",
       "      <td>5.375000</td>\n",
       "    </tr>\n",
       "    <tr>\n",
       "      <th>max</th>\n",
       "      <td>199.000000</td>\n",
       "      <td>183.780000</td>\n",
       "      <td>170.360000</td>\n",
       "      <td>6.030000</td>\n",
       "      <td>5.590000</td>\n",
       "    </tr>\n",
       "  </tbody>\n",
       "</table>\n",
       "</div>"
      ],
      "text/plain": [
       "             Rank  Male Height in Cm  Female Height in Cm  Male Height in Ft  \\\n",
       "count  199.000000         199.000000           199.000000         199.000000   \n",
       "mean   100.000000         173.089045           160.942915           5.678794   \n",
       "std     57.590508           4.949832             4.076377           0.162510   \n",
       "min      1.000000         160.130000           150.910000           5.250000   \n",
       "25%     50.500000         169.490000           158.240000           5.560000   \n",
       "50%    100.000000         173.530000           160.620000           5.690000   \n",
       "75%    149.500000         176.510000           163.870000           5.790000   \n",
       "max    199.000000         183.780000           170.360000           6.030000   \n",
       "\n",
       "       Female Height in Ft  \n",
       "count           199.000000  \n",
       "mean              5.280402  \n",
       "std               0.133870  \n",
       "min               4.950000  \n",
       "25%               5.190000  \n",
       "50%               5.270000  \n",
       "75%               5.375000  \n",
       "max               5.590000  "
      ]
     },
     "execution_count": 8,
     "metadata": {},
     "output_type": "execute_result"
    }
   ],
   "source": [
    "df.describe()"
   ]
  },
  {
   "cell_type": "code",
   "execution_count": 9,
   "id": "76f7e8ee",
   "metadata": {},
   "outputs": [
    {
     "data": {
      "text/plain": [
       "Rank                   0\n",
       "Country Name           0\n",
       "Male Height in Cm      0\n",
       "Female Height in Cm    0\n",
       "Male Height in Ft      0\n",
       "Female Height in Ft    0\n",
       "dtype: int64"
      ]
     },
     "execution_count": 9,
     "metadata": {},
     "output_type": "execute_result"
    }
   ],
   "source": [
    " df.isnull().sum()"
   ]
  },
  {
   "cell_type": "code",
   "execution_count": 10,
   "id": "c87cece4",
   "metadata": {},
   "outputs": [],
   "source": [
    "country =df['Male Height in Cm'].value_counts().reset_index()"
   ]
  },
  {
   "cell_type": "code",
   "execution_count": 11,
   "id": "bdaa10aa",
   "metadata": {},
   "outputs": [
    {
     "data": {
      "text/html": [
       "<div>\n",
       "<style scoped>\n",
       "    .dataframe tbody tr th:only-of-type {\n",
       "        vertical-align: middle;\n",
       "    }\n",
       "\n",
       "    .dataframe tbody tr th {\n",
       "        vertical-align: top;\n",
       "    }\n",
       "\n",
       "    .dataframe thead th {\n",
       "        text-align: right;\n",
       "    }\n",
       "</style>\n",
       "<table border=\"1\" class=\"dataframe\">\n",
       "  <thead>\n",
       "    <tr style=\"text-align: right;\">\n",
       "      <th></th>\n",
       "      <th>index</th>\n",
       "      <th>Male Height in Cm</th>\n",
       "    </tr>\n",
       "  </thead>\n",
       "  <tbody>\n",
       "    <tr>\n",
       "      <th>0</th>\n",
       "      <td>170.67</td>\n",
       "      <td>3</td>\n",
       "    </tr>\n",
       "    <tr>\n",
       "      <th>1</th>\n",
       "      <td>178.84</td>\n",
       "      <td>2</td>\n",
       "    </tr>\n",
       "    <tr>\n",
       "      <th>2</th>\n",
       "      <td>178.32</td>\n",
       "      <td>2</td>\n",
       "    </tr>\n",
       "    <tr>\n",
       "      <th>3</th>\n",
       "      <td>169.57</td>\n",
       "      <td>2</td>\n",
       "    </tr>\n",
       "    <tr>\n",
       "      <th>4</th>\n",
       "      <td>176.43</td>\n",
       "      <td>2</td>\n",
       "    </tr>\n",
       "    <tr>\n",
       "      <th>5</th>\n",
       "      <td>173.53</td>\n",
       "      <td>2</td>\n",
       "    </tr>\n",
       "    <tr>\n",
       "      <th>6</th>\n",
       "      <td>164.36</td>\n",
       "      <td>2</td>\n",
       "    </tr>\n",
       "    <tr>\n",
       "      <th>7</th>\n",
       "      <td>175.98</td>\n",
       "      <td>2</td>\n",
       "    </tr>\n",
       "    <tr>\n",
       "      <th>8</th>\n",
       "      <td>180.98</td>\n",
       "      <td>2</td>\n",
       "    </tr>\n",
       "    <tr>\n",
       "      <th>9</th>\n",
       "      <td>174.42</td>\n",
       "      <td>2</td>\n",
       "    </tr>\n",
       "  </tbody>\n",
       "</table>\n",
       "</div>"
      ],
      "text/plain": [
       "    index  Male Height in Cm\n",
       "0  170.67                  3\n",
       "1  178.84                  2\n",
       "2  178.32                  2\n",
       "3  169.57                  2\n",
       "4  176.43                  2\n",
       "5  173.53                  2\n",
       "6  164.36                  2\n",
       "7  175.98                  2\n",
       "8  180.98                  2\n",
       "9  174.42                  2"
      ]
     },
     "execution_count": 11,
     "metadata": {},
     "output_type": "execute_result"
    }
   ],
   "source": [
    "country.head(10)"
   ]
  },
  {
   "cell_type": "code",
   "execution_count": 12,
   "id": "92f8c515",
   "metadata": {},
   "outputs": [
    {
     "data": {
      "text/html": [
       "<div>\n",
       "<style scoped>\n",
       "    .dataframe tbody tr th:only-of-type {\n",
       "        vertical-align: middle;\n",
       "    }\n",
       "\n",
       "    .dataframe tbody tr th {\n",
       "        vertical-align: top;\n",
       "    }\n",
       "\n",
       "    .dataframe thead th {\n",
       "        text-align: right;\n",
       "    }\n",
       "</style>\n",
       "<table border=\"1\" class=\"dataframe\">\n",
       "  <thead>\n",
       "    <tr style=\"text-align: right;\">\n",
       "      <th></th>\n",
       "      <th>index</th>\n",
       "      <th>Male Height in Cm</th>\n",
       "    </tr>\n",
       "  </thead>\n",
       "  <tbody>\n",
       "    <tr>\n",
       "      <th>177</th>\n",
       "      <td>174.76</td>\n",
       "      <td>1</td>\n",
       "    </tr>\n",
       "    <tr>\n",
       "      <th>178</th>\n",
       "      <td>175.50</td>\n",
       "      <td>1</td>\n",
       "    </tr>\n",
       "    <tr>\n",
       "      <th>179</th>\n",
       "      <td>175.11</td>\n",
       "      <td>1</td>\n",
       "    </tr>\n",
       "    <tr>\n",
       "      <th>180</th>\n",
       "      <td>175.05</td>\n",
       "      <td>1</td>\n",
       "    </tr>\n",
       "    <tr>\n",
       "      <th>181</th>\n",
       "      <td>175.04</td>\n",
       "      <td>1</td>\n",
       "    </tr>\n",
       "    <tr>\n",
       "      <th>182</th>\n",
       "      <td>175.02</td>\n",
       "      <td>1</td>\n",
       "    </tr>\n",
       "    <tr>\n",
       "      <th>183</th>\n",
       "      <td>174.96</td>\n",
       "      <td>1</td>\n",
       "    </tr>\n",
       "    <tr>\n",
       "      <th>184</th>\n",
       "      <td>174.84</td>\n",
       "      <td>1</td>\n",
       "    </tr>\n",
       "    <tr>\n",
       "      <th>185</th>\n",
       "      <td>174.83</td>\n",
       "      <td>1</td>\n",
       "    </tr>\n",
       "    <tr>\n",
       "      <th>186</th>\n",
       "      <td>160.13</td>\n",
       "      <td>1</td>\n",
       "    </tr>\n",
       "  </tbody>\n",
       "</table>\n",
       "</div>"
      ],
      "text/plain": [
       "      index  Male Height in Cm\n",
       "177  174.76                  1\n",
       "178  175.50                  1\n",
       "179  175.11                  1\n",
       "180  175.05                  1\n",
       "181  175.04                  1\n",
       "182  175.02                  1\n",
       "183  174.96                  1\n",
       "184  174.84                  1\n",
       "185  174.83                  1\n",
       "186  160.13                  1"
      ]
     },
     "execution_count": 12,
     "metadata": {},
     "output_type": "execute_result"
    }
   ],
   "source": [
    "country.tail(10)"
   ]
  },
  {
   "cell_type": "code",
   "execution_count": 15,
   "id": "002b3f4c",
   "metadata": {},
   "outputs": [
    {
     "data": {
      "text/plain": [
       "Text(0, 0.5, 'Height in cm')"
      ]
     },
     "execution_count": 15,
     "metadata": {},
     "output_type": "execute_result"
    },
    {
     "data": {
      "image/png": "[encoded data removed]",
      "text/plain": [
       "<Figure size 432x288 with 1 Axes>"
      ]
     },
     "metadata": {
      "needs_background": "light"
     },
     "output_type": "display_data"
    }
   ],
   "source": [
    "m_height_cm = df.sort_values('Male Height in Cm',ascending = False).head(10)\n",
    "plt.bar('Country Name','Male Height in Cm',data = m_height_cm,color = 'skyblue',label= 'height')\n",
    "plt.ylim(ymin = 175 ,ymax = 185)\n",
    "plt.xticks(rotation = 90)\n",
    "plt.legend()\n",
    "plt.title('Top 10 heights of Male')\n",
    "plt.xlabel('Country Name')\n",
    "plt.ylabel('Height in cm')"
   ]
  },
  {
   "cell_type": "code",
   "execution_count": 42,
   "id": "d2981b3f",
   "metadata": {},
   "outputs": [
    {
     "data": {
      "text/plain": [
       "Text(0, 0.5, 'Height in Cm')"
      ]
     },
     "execution_count": 42,
     "metadata": {},
     "output_type": "execute_result"
    },
    {
     "data": {
      "image/png": "[encoded data removed]",
      "text/plain": [
       "<Figure size 432x288 with 1 Axes>"
      ]
     },
     "metadata": {
      "needs_background": "light"
     },
     "output_type": "display_data"
    }
   ],
   "source": [
    "m_height_cm = df.sort_values('Male Height in Cm').head(10)\n",
    "plt.bar('Country Name','Male Height in Cm', data =m_height_cm,color = 'skyblue')\n",
    "plt.ylim(ymin=155, ymax =170)\n",
    "plt.xticks(rotation = 90)\n",
    "plt.title('Last 10 heights of Male')\n",
    "plt.xlabel('Countries')\n",
    "plt.ylabel('Height in Cm')"
   ]
  },
  {
   "cell_type": "code",
   "execution_count": 62,
   "id": "4aa247e1",
   "metadata": {},
   "outputs": [
    {
     "data": {
      "text/plain": [
       "Text(0, 0.5, 'Height in Cm')"
      ]
     },
     "execution_count": 62,
     "metadata": {},
     "output_type": "execute_result"
    },
    {
     "data": {
      "image/png": "[encoded data removed]",
      "text/plain": [
       "<Figure size 432x288 with 1 Axes>"
      ]
     },
     "metadata": {
      "needs_background": "light"
     },
     "output_type": "display_data"
    }
   ],
   "source": [
    "f_height_cm = df.sort_values('Female Height in Cm',ascending = False).head(10)\n",
    "plt.bar('Country Name','Female Height in Cm',data = f_height_cm,color = 'pink')\n",
    "plt.ylim(ymin = 160,ymax = 175)\n",
    "plt.xticks(rotation = 90)\n",
    "plt.title('Top 10 Height of Female')\n",
    "plt.xlabel('Countries')\n",
    "plt.ylabel('Height in Cm')"
   ]
  },
  {
   "cell_type": "code",
   "execution_count": 58,
   "id": "27408ed1",
   "metadata": {},
   "outputs": [
    {
     "data": {
      "text/plain": [
       "Text(0.5, 1.0, 'Last 10 Heights of Female')"
      ]
     },
     "execution_count": 58,
     "metadata": {},
     "output_type": "execute_result"
    },
    {
     "data": {
      "image/png": "[encoded data removed]",
      "text/plain": [
       "<Figure size 432x288 with 1 Axes>"
      ]
     },
     "metadata": {
      "needs_background": "light"
     },
     "output_type": "display_data"
    }
   ],
   "source": [
    "f_height_cm = df.sort_values('Female Height in Cm',ascending = True).head(10)\n",
    "plt.bar('Country Name','Female Height in Cm',data =f_height_cm,color ='pink')\n",
    "plt.ylim(ymin = 148,ymax = 156)\n",
    "plt.xticks(rotation = 90)\n",
    "plt.title('Last 10 Heights of Female')"
   ]
  },
  {
   "cell_type": "markdown",
   "id": "11096ff1",
   "metadata": {},
   "source": [
    "# Average Height of Men in Countries"
   ]
  },
  {
   "cell_type": "code",
   "execution_count": 72,
   "id": "3696590b",
   "metadata": {},
   "outputs": [],
   "source": [
    "Avg_h_men = df['Male Height in Ft'].values"
   ]
  },
  {
   "cell_type": "code",
   "execution_count": 73,
   "id": "031e6d46",
   "metadata": {},
   "outputs": [
    {
     "name": "stdout",
     "output_type": "stream",
     "text": [
      "Average heigh of men in feet =  5.650400000000007\n"
     ]
    }
   ],
   "source": [
    "print('Average heigh of men in feet = ',sum(Avg_h_men)/200)"
   ]
  },
  {
   "cell_type": "markdown",
   "id": "db72e379",
   "metadata": {},
   "source": [
    "# Average Height of Female in Countries"
   ]
  },
  {
   "cell_type": "code",
   "execution_count": 74,
   "id": "5e37d90d",
   "metadata": {},
   "outputs": [],
   "source": [
    "Avg_h_female = df['Female Height in Ft'].values"
   ]
  },
  {
   "cell_type": "code",
   "execution_count": 75,
   "id": "72302e3f",
   "metadata": {},
   "outputs": [
    {
     "name": "stdout",
     "output_type": "stream",
     "text": [
      "Average heigh of Female in feet =  5.254000000000006\n"
     ]
    }
   ],
   "source": [
    "print('Average heigh of Female in feet = ',sum(Avg_h_female)/200)"
   ]
  },
  {
   "cell_type": "markdown",
   "id": "cabb6ae4",
   "metadata": {},
   "source": [
    "# Country which has Tallest and Shortest Male"
   ]
  },
  {
   "cell_type": "code",
   "execution_count": 87,
   "id": "b6aa1c88",
   "metadata": {},
   "outputs": [],
   "source": [
    "male = []\n",
    "avg_h_men = df['Male Height in Cm'].values\n",
    "country = df['Country Name'].values"
   ]
  },
  {
   "cell_type": "code",
   "execution_count": 88,
   "id": "1df52b20",
   "metadata": {},
   "outputs": [],
   "source": [
    "country = list(df['Country Name'])"
   ]
  },
  {
   "cell_type": "code",
   "execution_count": 89,
   "id": "88f239dc",
   "metadata": {},
   "outputs": [],
   "source": [
    "m_height = list(df['Male Height in Cm'])"
   ]
  },
  {
   "cell_type": "code",
   "execution_count": 90,
   "id": "25f1d92c",
   "metadata": {},
   "outputs": [],
   "source": [
    "l = dict(zip(country,m_height))"
   ]
  },
  {
   "cell_type": "code",
   "execution_count": 91,
   "id": "85812953",
   "metadata": {},
   "outputs": [
    {
     "name": "stdout",
     "output_type": "stream",
     "text": [
      "Tallest Male =  183.78\n"
     ]
    }
   ],
   "source": [
    "for x in avg_h_men:\n",
    "    male.append(x)\n",
    "    m = np.array(male).max()\n",
    "print(\"Tallest Male = \",m)"
   ]
  },
  {
   "cell_type": "code",
   "execution_count": 92,
   "id": "8596660e",
   "metadata": {},
   "outputs": [
    {
     "name": "stdout",
     "output_type": "stream",
     "text": [
      "Tallest male if from Netherlands country whose height is 183.78 Cm\n"
     ]
    }
   ],
   "source": [
    "for x,y in l.items():\n",
    "    if y == m:\n",
    "        print('Tallest male if from',x,'country whose height is', m,'Cm')"
   ]
  },
  {
   "cell_type": "markdown",
   "id": "029fa2ea",
   "metadata": {},
   "source": [
    "Tallest male if from Netherlands country whose height is 6.03 ft."
   ]
  },
  {
   "cell_type": "code",
   "execution_count": 93,
   "id": "67e6dce3",
   "metadata": {},
   "outputs": [
    {
     "name": "stdout",
     "output_type": "stream",
     "text": [
      "Shortest Male =  160.13\n"
     ]
    }
   ],
   "source": [
    "for x in avg_h_men:\n",
    "    male.append(x)\n",
    "    m =np.array(male).min()\n",
    "print(\"Shortest Male = \",m)"
   ]
  },
  {
   "cell_type": "code",
   "execution_count": 94,
   "id": "89732dea",
   "metadata": {},
   "outputs": [
    {
     "name": "stdout",
     "output_type": "stream",
     "text": [
      "Shortest male if from Timor-Leste country whose height is 160.13 Cm.\n"
     ]
    }
   ],
   "source": [
    "for x,y in l.items():\n",
    "    if y == m:\n",
    "        print('Shortest male if from',x,'country whose height is', m,'Cm.')"
   ]
  },
  {
   "cell_type": "markdown",
   "id": "b79f6ced",
   "metadata": {},
   "source": [
    "Shortest male if from Timor-Leste country whose height is 5.25 ft."
   ]
  },
  {
   "cell_type": "markdown",
   "id": "ff41e87b",
   "metadata": {},
   "source": [
    "# Country which has Tallest and Shortest Female"
   ]
  },
  {
   "cell_type": "code",
   "execution_count": 95,
   "id": "bca7d87f",
   "metadata": {},
   "outputs": [],
   "source": [
    "female = []\n",
    "avg_h_female = df['Female Height in Cm'].values\n",
    "country = df['Country Name'].values"
   ]
  },
  {
   "cell_type": "code",
   "execution_count": 96,
   "id": "12a4518d",
   "metadata": {},
   "outputs": [],
   "source": [
    "country = list(df['Country Name'])"
   ]
  },
  {
   "cell_type": "code",
   "execution_count": 99,
   "id": "c79bbf06",
   "metadata": {},
   "outputs": [],
   "source": [
    "f_height = list(df['Female Height in Cm'])"
   ]
  },
  {
   "cell_type": "code",
   "execution_count": 100,
   "id": "2cd18add",
   "metadata": {},
   "outputs": [],
   "source": [
    "l = dict(zip(country,f_height))"
   ]
  },
  {
   "cell_type": "code",
   "execution_count": 101,
   "id": "58796925",
   "metadata": {},
   "outputs": [
    {
     "name": "stdout",
     "output_type": "stream",
     "text": [
      "Tallest Female =  170.36\n"
     ]
    }
   ],
   "source": [
    "for x in avg_h_female:\n",
    "    female.append(x)\n",
    "    f =np.array(female).max()\n",
    "print('Tallest Female = ',f)"
   ]
  },
  {
   "cell_type": "code",
   "execution_count": 102,
   "id": "2de4889e",
   "metadata": {},
   "outputs": [
    {
     "name": "stdout",
     "output_type": "stream",
     "text": [
      "Tallest female if from Netherlands country whose height is 170.36 ft.\n"
     ]
    }
   ],
   "source": [
    "for x,y in l.items():\n",
    "    if y == f:\n",
    "         print('Tallest female if from',x,'country whose height is', f,'ft.')"
   ]
  },
  {
   "cell_type": "markdown",
   "id": "683b373b",
   "metadata": {},
   "source": [
    "Tallest female if from Netherlands country whose height is 5.59 ft."
   ]
  },
  {
   "cell_type": "code",
   "execution_count": 103,
   "id": "51f1d969",
   "metadata": {},
   "outputs": [
    {
     "name": "stdout",
     "output_type": "stream",
     "text": [
      "Shortest Female =  150.91\n"
     ]
    }
   ],
   "source": [
    "for x in avg_h_female:\n",
    "    female.append(x)\n",
    "    f =np.array(female).min()\n",
    "print('Shortest Female = ',f)"
   ]
  },
  {
   "cell_type": "code",
   "execution_count": 105,
   "id": "0f3f652b",
   "metadata": {},
   "outputs": [
    {
     "name": "stdout",
     "output_type": "stream",
     "text": [
      "Shortest male if from Guatemala country whose height is 150.91 Cm.\n"
     ]
    }
   ],
   "source": [
    "for x,y in l.items():\n",
    "    if y == f:\n",
    "        print('Shortest male if from',x,'country whose height is', f,'Cm.')"
   ]
  },
  {
   "cell_type": "markdown",
   "id": "a1b8feb6",
   "metadata": {},
   "source": [
    "Shortest male if from Guatemala country whose height is 4.95 ft."
   ]
  },
  {
   "cell_type": "code",
   "execution_count": null,
   "id": "d1b48e7f",
   "metadata": {},
   "outputs": [],
   "source": []
  }
 ],
 "metadata": {
  "kernelspec": {
   "display_name": "Python 3 (ipykernel)",
   "language": "python",
   "name": "python3"
  },
  "language_info": {
   "codemirror_mode": {
    "name": "ipython",
    "version": 3
   },
   "file_extension": ".py",
   "mimetype": "text/x-python",
   "name": "python",
   "nbconvert_exporter": "python",
   "pygments_lexer": "ipython3",
   "version": "3.9.7"
  }
 },
 "nbformat": 4,
 "nbformat_minor": 5
}
